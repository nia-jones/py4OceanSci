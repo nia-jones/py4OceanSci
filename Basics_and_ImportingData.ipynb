{
 "cells": [
  {
   "cell_type": "markdown",
   "id": "059e903f",
   "metadata": {
    "slideshow": {
     "slide_type": "slide"
    }
   },
   "source": [
    "# Welcome to the second Python for Ocean Sciences Seminar \n",
    "\n",
    "# The Basics and Importing Data \n"
   ]
  },
  {
   "cell_type": "markdown",
   "id": "819a1f57",
   "metadata": {
    "slideshow": {
     "slide_type": "slide"
    }
   },
   "source": [
    "Today we'll be learning some basic Python syntax, data types, how to read in some common file types, and understanding some common errors. In the session, we can hopefully do this live together... fingers crossed for no major technical failures! \n",
    "\n",
    "<img src=\"images/livetroubleshooting_AH.png\" width=\"800\" align=\"center\">\n",
    "\n",
    "*Artwork by @allison_horst*\n"
   ]
  },
  {
   "cell_type": "markdown",
   "id": "54076503",
   "metadata": {
    "slideshow": {
     "slide_type": "slide"
    }
   },
   "source": [
    "<img src=\"images/codehero_AH.png\" width=\"500\" align=\"right\">\n",
    "\n",
    "**Troubleshooting** \n",
    "\n",
    "You will inevitably come across a lot of errors in your journey to learn Python. Luckily, Python and it's many packages are *open source* so there is a lot of support online. \n",
    "\n",
    "As a Python user your first port of call will probably be https://stackoverflow.com/, however most packages have well-documented online manuals and there are more specific forums e.g https://gis.stackexchange.com/ for GIS related questions. \n",
    "\n",
    "*Artwork by @allison_horst*\n"
   ]
  },
  {
   "cell_type": "markdown",
   "id": "dd4bad5c",
   "metadata": {
    "slideshow": {
     "slide_type": "slide"
    }
   },
   "source": [
    "# Read in Python packages \n",
    "\n",
    "<img src=\"images/importmodules.png\" width=\"500\" align=\"right\">\n",
    "\n",
    "The Python language has limited, basic operations for data and research science. To expand its capability, we need to import some of the packages we installed last time. In Python scripts, all packages used in that particular script are imported at the start. Do this by running the code below. \n",
    "\n",
    "*Tip: You can give packages aliases/another name to simplify your code. You can use any name but there are some standard ones below*"
   ]
  },
  {
   "cell_type": "code",
   "execution_count": 1,
   "id": "e19cc482",
   "metadata": {
    "slideshow": {
     "slide_type": "subslide"
    }
   },
   "outputs": [],
   "source": [
    "import numpy as np # numpy is the package, np is the alias \n",
    "import pandas as pd"
   ]
  },
  {
   "cell_type": "markdown",
   "id": "f0ca7063",
   "metadata": {
    "slideshow": {
     "slide_type": "subslide"
    }
   },
   "source": [
    "If you don't have the package installed in your *activated environment* Python will give you this error: \n",
    "\n",
    "```\n",
    "ModuleNotFoundError: No module named 'numpy'\n",
    "```\n",
    "\n",
    "Python code is **case sensitive**. This means none of Numpy, NUMPY, NumPY will work if you want to be using 'numpy'!\n",
    "\n",
    "*Reminder: To download the numpy Python package navigate to your activated environment in your Anaconda Prompt and type the following command...* \n",
    "\n",
    "``` conda install numpy ``` \n",
    "\n",
    "Now we've installed our package we can start coding in Python!"
   ]
  },
  {
   "cell_type": "markdown",
   "id": "b26912b3",
   "metadata": {
    "slideshow": {
     "slide_type": "slide"
    }
   },
   "source": [
    "## Basic Arithmetic in Python\n",
    "\n",
    "Basic arithmetic operations are built into the Python language and are very similar to other languages, e.g: \n",
    "\n",
    "- ```+``` for addition\n",
    "- ```-``` for subtraction\n",
    "- ```*``` for multiplication\n",
    "- ```/``` for division\n",
    "- ```%``` for modulus (returns the remainder)\n",
    "- ```**``` for exponentiation\n",
    "\n",
    "\n",
    "We can also output variables and other information to the workspace using ```print()```. For example:"
   ]
  },
  {
   "cell_type": "code",
   "execution_count": 2,
   "id": "ffd6e292",
   "metadata": {
    "slideshow": {
     "slide_type": "subslide"
    }
   },
   "outputs": [
    {
     "data": {
      "text/plain": [
       "9"
      ]
     },
     "execution_count": 2,
     "metadata": {},
     "output_type": "execute_result"
    }
   ],
   "source": [
    "a = 4\n",
    "b = 5 \n",
    "\n",
    "a+b\n",
    "#a-b\n",
    "\n",
    "# print(a+b) \n",
    "# print(a**b) \n",
    "# print('a/b = ' + a/b)\n",
    "# print('a/b = ' + str(a/b))\n",
    "\n",
    "# c = a+b # Unlike in MATLAB we don't need a semi-colon (;) at the end of a line... \n",
    "        #   to stop printing to screen."
   ]
  },
  {
   "cell_type": "markdown",
   "id": "7cba36f9",
   "metadata": {
    "slideshow": {
     "slide_type": "subslide"
    }
   },
   "source": [
    "\n",
    "Let's use some more advanced mathematical functions using the numpy library. Remember we imported numpy with the alias \"np\". You can now call specific functions within the numpy library by using the syntax ```np.```"
   ]
  },
  {
   "cell_type": "code",
   "execution_count": 3,
   "id": "db48908c",
   "metadata": {
    "slideshow": {
     "slide_type": "fragment"
    }
   },
   "outputs": [
    {
     "name": "stdout",
     "output_type": "stream",
     "text": [
      "3.141592653589793\n",
      "2.718281828459045\n",
      "0.7071067811865475\n",
      "0.7071067811865476\n",
      "tan(angle) = 0.9999999999999999\n"
     ]
    }
   ],
   "source": [
    "# mathematical constants \n",
    "print(np.pi)\n",
    "print(np.e)\n",
    "\n",
    "# trigonometric functions \n",
    "angle = np.pi/4\n",
    "print(np.sin(angle))\n",
    "print(np.cos(angle))\n",
    "print('tan(angle) = ' + str(np.tan(angle)))"
   ]
  },
  {
   "cell_type": "markdown",
   "id": "8fd76869",
   "metadata": {
    "slideshow": {
     "slide_type": "slide"
    }
   },
   "source": [
    "## Data Types and Structures in Python\n",
    "\n",
    "Python has your usual data **types** (e.g strings, floats, integers etc) but also three very useful data **structures** built into the language. \n",
    "\n",
    "- dictionaries: { } \n",
    "- lists: [ ] \n",
    "- tuples: (item1,...)\n",
    "\n",
    "*Tip: Check your data type with the command* ``` type() ```"
   ]
  },
  {
   "cell_type": "code",
   "execution_count": 4,
   "id": "5fce15fd",
   "metadata": {
    "slideshow": {
     "slide_type": "subslide"
    }
   },
   "outputs": [
    {
     "name": "stdout",
     "output_type": "stream",
     "text": [
      "hello <class 'str'>\n",
      "2.4 <class 'float'>\n",
      "2.0 <class 'float'>\n",
      "4 <class 'int'>\n",
      "4 <class 'int'>\n",
      "4.0 <class 'numpy.float64'>\n"
     ]
    }
   ],
   "source": [
    "# lets look at some data types \n",
    "\n",
    "string_1 = \"hello\" # you can call variables anything you want...\n",
    "                   # as long as they don't interfere with functions (e.g type,np,tan etc)\n",
    "print(string_1, type(string_1))\n",
    "\n",
    "float_1 = 2.4\n",
    "float_2 = float(2) # you can convert integers into floats\n",
    "print(float_1, type(float_1))\n",
    "print(float_2, type(float_2))\n",
    "\n",
    "int_1 = 4\n",
    "int_2 = int(4.2) # you can also convert floats into integers. It will round the number to the nearest integer. \n",
    "int_3 = np.floor(4.2) # this rounds the number down to the nearest integer but does not convert the data type.\n",
    "print(int_1, type(int_1))\n",
    "print(int_2, type(int_2))\n",
    "print(int_3, type(int_3))"
   ]
  },
  {
   "cell_type": "code",
   "execution_count": 5,
   "id": "7cec1603",
   "metadata": {
    "slideshow": {
     "slide_type": "subslide"
    }
   },
   "outputs": [
    {
     "name": "stdout",
     "output_type": "stream",
     "text": [
      "[1, 2, 3] <class 'list'>\n",
      "(1, 2, 3) <class 'tuple'>\n",
      "{'A': 4, 'B': 6, 'C': 8} <class 'dict'>\n"
     ]
    }
   ],
   "source": [
    "# lets look at some data structures \n",
    "\n",
    "# A list is an editable list of items \n",
    "\n",
    "myList = [1, 2, 3]\n",
    "\n",
    "# A tuple is a read-only data structure. \n",
    "\n",
    "myTuple = (1,2,3)\n",
    "\n",
    "# A dictionary is a collection of \"key\":value pairs \n",
    "\n",
    "myDictionary = {\"A\":4,\"B\":6,\"C\":8}\n",
    "\n",
    "print(myList,type(myList))\n",
    "print(myTuple,type(myTuple))\n",
    "print(myDictionary,type(myDictionary))"
   ]
  },
  {
   "cell_type": "markdown",
   "id": "8680aa09",
   "metadata": {
    "slideshow": {
     "slide_type": "subslide"
    }
   },
   "source": [
    "We've started to create a lot of variables. To keep track, and print to screen, use the ```%whos``` command. "
   ]
  },
  {
   "cell_type": "code",
   "execution_count": 6,
   "id": "86ebda2b",
   "metadata": {
    "slideshow": {
     "slide_type": "fragment"
    }
   },
   "outputs": [
    {
     "name": "stdout",
     "output_type": "stream",
     "text": [
      "Variable       Type       Data/Info\n",
      "-----------------------------------\n",
      "a              int        4\n",
      "angle          float      0.7853981633974483\n",
      "b              int        5\n",
      "float_1        float      2.4\n",
      "float_2        float      2.0\n",
      "int_1          int        4\n",
      "int_2          int        4\n",
      "int_3          float64    4.0\n",
      "myDictionary   dict       n=3\n",
      "myList         list       n=3\n",
      "myTuple        tuple      n=3\n",
      "np             module     <module 'numpy' from '/Us<...>kages/numpy/__init__.py'>\n",
      "pd             module     <module 'pandas' from '/U<...>ages/pandas/__init__.py'>\n",
      "string_1       str        hello\n"
     ]
    }
   ],
   "source": [
    "%whos"
   ]
  },
  {
   "cell_type": "markdown",
   "id": "a503e1c9",
   "metadata": {
    "slideshow": {
     "slide_type": "slide"
    }
   },
   "source": [
    "\n",
    "\n",
    "## Defining Functions\n",
    "\n",
    "You can define functions within your code in Python. They have to be defined *before* you use them in the code. Here's a very simple one as an example: "
   ]
  },
  {
   "cell_type": "code",
   "execution_count": 7,
   "id": "dc425989",
   "metadata": {
    "slideshow": {
     "slide_type": "fragment"
    }
   },
   "outputs": [],
   "source": [
    "def addition(a,b):\n",
    "    c = a + b\n",
    "    return c"
   ]
  },
  {
   "cell_type": "code",
   "execution_count": 8,
   "id": "b6b6d775",
   "metadata": {
    "slideshow": {
     "slide_type": "fragment"
    }
   },
   "outputs": [
    {
     "name": "stdout",
     "output_type": "stream",
     "text": [
      "5\n"
     ]
    }
   ],
   "source": [
    "result = addition(2,3)\n",
    "print(result)"
   ]
  },
  {
   "cell_type": "markdown",
   "id": "71923d90",
   "metadata": {
    "slideshow": {
     "slide_type": "subslide"
    }
   },
   "source": [
    "You can also output multiple variables from a function, and store them separately:"
   ]
  },
  {
   "cell_type": "code",
   "execution_count": 9,
   "id": "5d126d98",
   "metadata": {
    "slideshow": {
     "slide_type": "fragment"
    }
   },
   "outputs": [],
   "source": [
    "def addition(a,b):\n",
    "    c = a + b\n",
    "    return a,b,c"
   ]
  },
  {
   "cell_type": "code",
   "execution_count": 10,
   "id": "00e2bf8c",
   "metadata": {
    "slideshow": {
     "slide_type": "fragment"
    }
   },
   "outputs": [
    {
     "name": "stdout",
     "output_type": "stream",
     "text": [
      "Variable       Type        Data/Info\n",
      "------------------------------------\n",
      "A              int         2\n",
      "B              int         3\n",
      "C              int         5\n",
      "a              int         4\n",
      "addition       function    <function addition at 0x7fcfdb69c3a0>\n",
      "angle          float       0.7853981633974483\n",
      "b              int         5\n",
      "float_1        float       2.4\n",
      "float_2        float       2.0\n",
      "int_1          int         4\n",
      "int_2          int         4\n",
      "int_3          float64     4.0\n",
      "myDictionary   dict        n=3\n",
      "myList         list        n=3\n",
      "myTuple        tuple       n=3\n",
      "np             module      <module 'numpy' from '/Us<...>kages/numpy/__init__.py'>\n",
      "pd             module      <module 'pandas' from '/U<...>ages/pandas/__init__.py'>\n",
      "result         int         5\n",
      "string_1       str         hello\n"
     ]
    }
   ],
   "source": [
    "A, B, C = addition(2,3)\n",
    "\n",
    "%whos"
   ]
  },
  {
   "cell_type": "markdown",
   "id": "99b393db",
   "metadata": {
    "slideshow": {
     "slide_type": "subslide"
    }
   },
   "source": [
    "Here's another, using some boolean operators:"
   ]
  },
  {
   "cell_type": "code",
   "execution_count": 11,
   "id": "a815dbbc",
   "metadata": {
    "slideshow": {
     "slide_type": "fragment"
    }
   },
   "outputs": [],
   "source": [
    "def is_it_three(a): \n",
    "    return a == 3"
   ]
  },
  {
   "cell_type": "code",
   "execution_count": 12,
   "id": "95b50a6d",
   "metadata": {
    "slideshow": {
     "slide_type": "fragment"
    }
   },
   "outputs": [
    {
     "data": {
      "text/plain": [
       "False"
      ]
     },
     "execution_count": 12,
     "metadata": {},
     "output_type": "execute_result"
    }
   ],
   "source": [
    "is_it_three(2)"
   ]
  },
  {
   "cell_type": "code",
   "execution_count": 13,
   "id": "b20c843e",
   "metadata": {
    "slideshow": {
     "slide_type": "subslide"
    }
   },
   "outputs": [],
   "source": [
    "def is_odd(num):\n",
    "    if num % 2 != 0:\n",
    "        result = str(num) + \" is an odd number\"\n",
    "    else:\n",
    "        result = str(num) + \" is an even number\"\n",
    "    return result"
   ]
  },
  {
   "cell_type": "code",
   "execution_count": 14,
   "id": "cecc784b",
   "metadata": {
    "slideshow": {
     "slide_type": "fragment"
    }
   },
   "outputs": [
    {
     "data": {
      "text/plain": [
       "'4 is an even number'"
      ]
     },
     "execution_count": 14,
     "metadata": {},
     "output_type": "execute_result"
    }
   ],
   "source": [
    "is_odd(4)"
   ]
  },
  {
   "cell_type": "markdown",
   "id": "e0724ff7",
   "metadata": {
    "slideshow": {
     "slide_type": "subslide"
    }
   },
   "source": [
    "**Identation** \n",
    "\n",
    "Python uses indentation to identify blocks of code. Code within the same block should be at the same indentation level. A Python function is one type of code block (as is a for loop, if statement *etc.*). \n",
    "\n",
    "If the code isn't indented properly it might throw up an ```IndentationError``` or cause your analysis to be incorrect. See an example below. \n"
   ]
  },
  {
   "cell_type": "code",
   "execution_count": 15,
   "id": "5fe8adfe",
   "metadata": {
    "slideshow": {
     "slide_type": "fragment"
    }
   },
   "outputs": [
    {
     "ename": "IndentationError",
     "evalue": "expected an indented block after function definition on line 1 (1369207306.py, line 2)",
     "output_type": "error",
     "traceback": [
      "\u001b[0;36m  File \u001b[0;32m\"/var/folders/15/vlf1ck6j1xj7ttfxgkgqvbw40000gn/T/ipykernel_5042/1369207306.py\"\u001b[0;36m, line \u001b[0;32m2\u001b[0m\n\u001b[0;31m    return a == 2\u001b[0m\n\u001b[0m    ^\u001b[0m\n\u001b[0;31mIndentationError\u001b[0m\u001b[0;31m:\u001b[0m expected an indented block after function definition on line 1\n"
     ]
    }
   ],
   "source": [
    "def is_it_two(a):\n",
    "return a == 2 "
   ]
  },
  {
   "cell_type": "markdown",
   "id": "1dfe2439",
   "metadata": {
    "slideshow": {
     "slide_type": "slide"
    }
   },
   "source": [
    "## Zero-Indexing\n",
    "\n",
    "Indexing in Python starts at 0 (e.g the first number in your list is position 0 not 1). "
   ]
  },
  {
   "cell_type": "code",
   "execution_count": 16,
   "id": "7fd83149",
   "metadata": {
    "slideshow": {
     "slide_type": "fragment"
    }
   },
   "outputs": [],
   "source": [
    "my_list = [43,56,78,53]"
   ]
  },
  {
   "cell_type": "code",
   "execution_count": 17,
   "id": "8a057bfc",
   "metadata": {
    "scrolled": true,
    "slideshow": {
     "slide_type": "subslide"
    }
   },
   "outputs": [
    {
     "name": "stdout",
     "output_type": "stream",
     "text": [
      "43\n",
      "56\n",
      "53\n",
      "78\n"
     ]
    }
   ],
   "source": [
    "# list indices\n",
    "print(my_list[0]) # call the first item in the list \"my_list\"\n",
    "print(my_list[1]) # call the second item in the list \"my_list\"\n",
    "\n",
    "# negative list indices\n",
    "print(my_list[-1]) # call the last item in the list \"my_list\"\n",
    "print(my_list[-2]) # call the second to last item in the list \"my_list\""
   ]
  },
  {
   "cell_type": "markdown",
   "id": "e6fbd0f3",
   "metadata": {
    "slideshow": {
     "slide_type": "fragment"
    }
   },
   "source": [
    "Here we are indexing a *list*. You can find out more about list manipulation and different functions using this cheatsheet: https://www.codecademy.com/learn/learn-python-3/modules/learn-python3-lists/cheatsheet"
   ]
  },
  {
   "cell_type": "markdown",
   "id": "2be07927",
   "metadata": {
    "slideshow": {
     "slide_type": "slide"
    }
   },
   "source": [
    " ## Reading in Data \n",
    "\n",
    "You can read in hundreds of different types of data files into Python. Here are some ways to read in a few common ones to hopefully get you started analysing data quickly! "
   ]
  },
  {
   "cell_type": "markdown",
   "id": "dc9adbcc",
   "metadata": {
    "slideshow": {
     "slide_type": "subslide"
    }
   },
   "source": [
    "**Reading in a .csv file with the pandas package** \n",
    "\n",
    "Use the pandas function 'read_csv' to import a .csv file and put the file path of your data between the quotation marks. See below using a data set of microplastic records in the Caribbean Sea from https://www.ncei.noaa.gov/products/microplastics. "
   ]
  },
  {
   "cell_type": "code",
   "execution_count": 18,
   "id": "64eea33d",
   "metadata": {
    "slideshow": {
     "slide_type": "fragment"
    }
   },
   "outputs": [
    {
     "data": {
      "text/plain": [
       "pandas.core.frame.DataFrame"
      ]
     },
     "execution_count": 18,
     "metadata": {},
     "output_type": "execute_result"
    }
   ],
   "source": [
    "data = pd.read_csv(r\"data/caribbean_microplastics.csv\")\n",
    "type(data)"
   ]
  },
  {
   "cell_type": "markdown",
   "id": "4902d04d",
   "metadata": {
    "slideshow": {
     "slide_type": "fragment"
    }
   },
   "source": [
    "*Note: If you put in the raw file path, you might get an error. Make sure to put \"r\" before the file path as above to convert the file path you copied into a regular string.*\n",
    "\n",
    "Now you can check the data have been read in correctly by using the .head() function. The default is to print the first 5 lines of the data however you can specify the amount of lines between the brackets. "
   ]
  },
  {
   "cell_type": "code",
   "execution_count": 19,
   "id": "197d0407",
   "metadata": {
    "slideshow": {
     "slide_type": "subslide"
    }
   },
   "outputs": [
    {
     "data": {
      "text/html": [
       "<div>\n",
       "<style scoped>\n",
       "    .dataframe tbody tr th:only-of-type {\n",
       "        vertical-align: middle;\n",
       "    }\n",
       "\n",
       "    .dataframe tbody tr th {\n",
       "        vertical-align: top;\n",
       "    }\n",
       "\n",
       "    .dataframe thead th {\n",
       "        text-align: right;\n",
       "    }\n",
       "</style>\n",
       "<table border=\"1\" class=\"dataframe\">\n",
       "  <thead>\n",
       "    <tr style=\"text-align: right;\">\n",
       "      <th></th>\n",
       "      <th>FID</th>\n",
       "      <th>Date</th>\n",
       "      <th>Latitude</th>\n",
       "      <th>Longitude</th>\n",
       "      <th>Oceans</th>\n",
       "      <th>Regions</th>\n",
       "      <th>SubRegions</th>\n",
       "      <th>Microplastics Measurement (density)</th>\n",
       "      <th>Unit</th>\n",
       "      <th>Density Class Range</th>\n",
       "      <th>...</th>\n",
       "      <th>Sampling Method</th>\n",
       "      <th>Short Reference</th>\n",
       "      <th>Long Reference</th>\n",
       "      <th>DOI</th>\n",
       "      <th>Organization</th>\n",
       "      <th>Keywords</th>\n",
       "      <th>NCEI Accession Number</th>\n",
       "      <th>NCEI Accession Link</th>\n",
       "      <th>x</th>\n",
       "      <th>y</th>\n",
       "    </tr>\n",
       "  </thead>\n",
       "  <tbody>\n",
       "    <tr>\n",
       "      <th>0</th>\n",
       "      <td>9</td>\n",
       "      <td>03/11/1992</td>\n",
       "      <td>14.77</td>\n",
       "      <td>-60.55</td>\n",
       "      <td>Atlantic Ocean</td>\n",
       "      <td>Caribbean Sea</td>\n",
       "      <td></td>\n",
       "      <td>0.00000</td>\n",
       "      <td>pieces/m3</td>\n",
       "      <td>0-0.0005</td>\n",
       "      <td>...</td>\n",
       "      <td>Neuston net</td>\n",
       "      <td>Law et al.2010</td>\n",
       "      <td>Law, K.L., S. Morét-Ferguson, N.A. Maximenko, ...</td>\n",
       "      <td>https://doi.org/10.1126/science.1192321</td>\n",
       "      <td>Sea Education Association</td>\n",
       "      <td>SEA</td>\n",
       "      <td>211007</td>\n",
       "      <td>https://www.ncei.noaa.gov/access/metadata/land...</td>\n",
       "      <td>-6.740395e+06</td>\n",
       "      <td>1.662708e+06</td>\n",
       "    </tr>\n",
       "    <tr>\n",
       "      <th>1</th>\n",
       "      <td>10</td>\n",
       "      <td>03/11/1992</td>\n",
       "      <td>14.77</td>\n",
       "      <td>-60.55</td>\n",
       "      <td>Atlantic Ocean</td>\n",
       "      <td>Caribbean Sea</td>\n",
       "      <td></td>\n",
       "      <td>0.00000</td>\n",
       "      <td>pieces/m3</td>\n",
       "      <td>0-0.0005</td>\n",
       "      <td>...</td>\n",
       "      <td>Neuston net</td>\n",
       "      <td>Law et al.2010</td>\n",
       "      <td>Law, K.L., S. Morét-Ferguson, N.A. Maximenko, ...</td>\n",
       "      <td>https://doi.org/10.1126/science.1192321</td>\n",
       "      <td>Sea Education Association</td>\n",
       "      <td>SEA</td>\n",
       "      <td>211007</td>\n",
       "      <td>https://www.ncei.noaa.gov/access/metadata/land...</td>\n",
       "      <td>-6.740395e+06</td>\n",
       "      <td>1.662708e+06</td>\n",
       "    </tr>\n",
       "    <tr>\n",
       "      <th>2</th>\n",
       "      <td>11</td>\n",
       "      <td>04/11/1992</td>\n",
       "      <td>14.58</td>\n",
       "      <td>-61.33</td>\n",
       "      <td>Atlantic Ocean</td>\n",
       "      <td>Caribbean Sea</td>\n",
       "      <td></td>\n",
       "      <td>0.00432</td>\n",
       "      <td>pieces/m3</td>\n",
       "      <td>0.0005-0.005</td>\n",
       "      <td>...</td>\n",
       "      <td>Neuston net</td>\n",
       "      <td>Law et al.2010</td>\n",
       "      <td>Law, K.L., S. Morét-Ferguson, N.A. Maximenko, ...</td>\n",
       "      <td>https://doi.org/10.1126/science.1192321</td>\n",
       "      <td>Sea Education Association</td>\n",
       "      <td>SEA</td>\n",
       "      <td>211007</td>\n",
       "      <td>https://www.ncei.noaa.gov/access/metadata/land...</td>\n",
       "      <td>-6.827224e+06</td>\n",
       "      <td>1.640844e+06</td>\n",
       "    </tr>\n",
       "    <tr>\n",
       "      <th>3</th>\n",
       "      <td>12</td>\n",
       "      <td>04/11/1992</td>\n",
       "      <td>14.58</td>\n",
       "      <td>-61.33</td>\n",
       "      <td>Atlantic Ocean</td>\n",
       "      <td>Caribbean Sea</td>\n",
       "      <td></td>\n",
       "      <td>0.00648</td>\n",
       "      <td>pieces/m3</td>\n",
       "      <td>0.005-1</td>\n",
       "      <td>...</td>\n",
       "      <td>Neuston net</td>\n",
       "      <td>Law et al.2010</td>\n",
       "      <td>Law, K.L., S. Morét-Ferguson, N.A. Maximenko, ...</td>\n",
       "      <td>https://doi.org/10.1126/science.1192321</td>\n",
       "      <td>Sea Education Association</td>\n",
       "      <td>SEA</td>\n",
       "      <td>211007</td>\n",
       "      <td>https://www.ncei.noaa.gov/access/metadata/land...</td>\n",
       "      <td>-6.827224e+06</td>\n",
       "      <td>1.640844e+06</td>\n",
       "    </tr>\n",
       "    <tr>\n",
       "      <th>4</th>\n",
       "      <td>13</td>\n",
       "      <td>07/11/1992</td>\n",
       "      <td>14.23</td>\n",
       "      <td>-61.18</td>\n",
       "      <td>Atlantic Ocean</td>\n",
       "      <td>Caribbean Sea</td>\n",
       "      <td></td>\n",
       "      <td>0.00000</td>\n",
       "      <td>pieces/m3</td>\n",
       "      <td>0-0.0005</td>\n",
       "      <td>...</td>\n",
       "      <td>Neuston net</td>\n",
       "      <td>Law et al.2010</td>\n",
       "      <td>Law, K.L., S. Morét-Ferguson, N.A. Maximenko, ...</td>\n",
       "      <td>https://doi.org/10.1126/science.1192321</td>\n",
       "      <td>Sea Education Association</td>\n",
       "      <td>SEA</td>\n",
       "      <td>211007</td>\n",
       "      <td>https://www.ncei.noaa.gov/access/metadata/land...</td>\n",
       "      <td>-6.810526e+06</td>\n",
       "      <td>1.600617e+06</td>\n",
       "    </tr>\n",
       "  </tbody>\n",
       "</table>\n",
       "<p>5 rows × 21 columns</p>\n",
       "</div>"
      ],
      "text/plain": [
       "   FID        Date  Latitude  Longitude          Oceans        Regions  \\\n",
       "0    9  03/11/1992     14.77     -60.55  Atlantic Ocean  Caribbean Sea   \n",
       "1   10  03/11/1992     14.77     -60.55  Atlantic Ocean  Caribbean Sea   \n",
       "2   11  04/11/1992     14.58     -61.33  Atlantic Ocean  Caribbean Sea   \n",
       "3   12  04/11/1992     14.58     -61.33  Atlantic Ocean  Caribbean Sea   \n",
       "4   13  07/11/1992     14.23     -61.18  Atlantic Ocean  Caribbean Sea   \n",
       "\n",
       "  SubRegions  Microplastics Measurement (density)       Unit  \\\n",
       "0                                         0.00000  pieces/m3   \n",
       "1                                         0.00000  pieces/m3   \n",
       "2                                         0.00432  pieces/m3   \n",
       "3                                         0.00648  pieces/m3   \n",
       "4                                         0.00000  pieces/m3   \n",
       "\n",
       "  Density Class Range  ... Sampling Method Short Reference  \\\n",
       "0            0-0.0005  ...     Neuston net  Law et al.2010   \n",
       "1            0-0.0005  ...     Neuston net  Law et al.2010   \n",
       "2        0.0005-0.005  ...     Neuston net  Law et al.2010   \n",
       "3             0.005-1  ...     Neuston net  Law et al.2010   \n",
       "4            0-0.0005  ...     Neuston net  Law et al.2010   \n",
       "\n",
       "                                      Long Reference  \\\n",
       "0  Law, K.L., S. Morét-Ferguson, N.A. Maximenko, ...   \n",
       "1  Law, K.L., S. Morét-Ferguson, N.A. Maximenko, ...   \n",
       "2  Law, K.L., S. Morét-Ferguson, N.A. Maximenko, ...   \n",
       "3  Law, K.L., S. Morét-Ferguson, N.A. Maximenko, ...   \n",
       "4  Law, K.L., S. Morét-Ferguson, N.A. Maximenko, ...   \n",
       "\n",
       "                                       DOI               Organization  \\\n",
       "0  https://doi.org/10.1126/science.1192321  Sea Education Association   \n",
       "1  https://doi.org/10.1126/science.1192321  Sea Education Association   \n",
       "2  https://doi.org/10.1126/science.1192321  Sea Education Association   \n",
       "3  https://doi.org/10.1126/science.1192321  Sea Education Association   \n",
       "4  https://doi.org/10.1126/science.1192321  Sea Education Association   \n",
       "\n",
       "  Keywords NCEI Accession Number  \\\n",
       "0      SEA                211007   \n",
       "1      SEA                211007   \n",
       "2      SEA                211007   \n",
       "3      SEA                211007   \n",
       "4      SEA                211007   \n",
       "\n",
       "                                 NCEI Accession Link             x  \\\n",
       "0  https://www.ncei.noaa.gov/access/metadata/land... -6.740395e+06   \n",
       "1  https://www.ncei.noaa.gov/access/metadata/land... -6.740395e+06   \n",
       "2  https://www.ncei.noaa.gov/access/metadata/land... -6.827224e+06   \n",
       "3  https://www.ncei.noaa.gov/access/metadata/land... -6.827224e+06   \n",
       "4  https://www.ncei.noaa.gov/access/metadata/land... -6.810526e+06   \n",
       "\n",
       "              y  \n",
       "0  1.662708e+06  \n",
       "1  1.662708e+06  \n",
       "2  1.640844e+06  \n",
       "3  1.640844e+06  \n",
       "4  1.600617e+06  \n",
       "\n",
       "[5 rows x 21 columns]"
      ]
     },
     "execution_count": 19,
     "metadata": {},
     "output_type": "execute_result"
    }
   ],
   "source": [
    "data.head() # print the first 5 lines of \"data\""
   ]
  },
  {
   "cell_type": "markdown",
   "id": "b8851906",
   "metadata": {
    "slideshow": {
     "slide_type": "subslide"
    }
   },
   "source": [
    "**Reading a netCDF file**\n",
    "\n",
    "netCDF (.nc) files are popular within the ocean sciences, which can contain multidimensional and geographic data, stored neatly with the metadata. \n",
    "\n",
    "To read this filetype into Python we can use the netCDF4 package. Make sure to download it to your activated environment by using the following command in your Anaconda Prompt: \n",
    "\n",
    "```\n",
    "conda install netCDF4\n",
    "```\n",
    "\n",
    "We will now read a data set which includes the forecast sea ice extent around Svalbard during December 2022. We'll do this by using the .Dataset function within the netCDF4 package. "
   ]
  },
  {
   "cell_type": "code",
   "execution_count": 20,
   "id": "87db52f9",
   "metadata": {
    "slideshow": {
     "slide_type": "fragment"
    }
   },
   "outputs": [],
   "source": [
    "import netCDF4 as nc # import the package at the top of your script before using it "
   ]
  },
  {
   "cell_type": "code",
   "execution_count": 21,
   "id": "35095c5a",
   "metadata": {
    "slideshow": {
     "slide_type": "fragment"
    }
   },
   "outputs": [],
   "source": [
    "ds = nc.Dataset(r'data/seaiceextent.nc') # read the .nc file in as a netcdf 'Dataset'"
   ]
  },
  {
   "cell_type": "code",
   "execution_count": 22,
   "id": "94ba948a",
   "metadata": {
    "slideshow": {
     "slide_type": "subslide"
    }
   },
   "outputs": [
    {
     "name": "stdout",
     "output_type": "stream",
     "text": [
      "<class 'netCDF4._netCDF4.Dataset'>\n",
      "root group (NETCDF3_CLASSIC data model, file format NETCDF3):\n",
      "    Conventions: CF-1.6\n",
      "    institution: NERSC, Jahnebakken 3, N-5007 Bergen, Norway\n",
      "    source: neXtSIM model fields\n",
      "    email: nextsimf@nersc.no\n",
      "    title: neXtSIM-F sea ice forecast, 3 km monthly averaged fields (cmems_mod_arc_phy_anfc_nextsim_P1M-m)\n",
      "    cmems_product_id: ARCTIC_ANALYSISFORECAST_PHY_ICE_002_011\n",
      "    FROM_ORIGINAL_FILE__field_type: Files based on file type moorings\n",
      "    field_date: 2022-12-16\n",
      "    _CoordSysBuilder: ucar.nc2.dataset.conv.CF1Convention\n",
      "    references:  \n",
      "    comment: \n",
      "    history: Data extracted from dataset http://localhost:8080/thredds/dodsC/cmems_mod_arc_phy_anfc_nextsim_P1M-m\n",
      "    dimensions(sizes): x(426), y(483), time(1)\n",
      "    variables(dimensions): int8 stereographic(), >f8 latitude(y, x), >f8 x(x), >f8 y(y), >f8 sithick(time, y, x), >f8 time(time), >f8 longitude(y, x)\n",
      "    groups: \n"
     ]
    }
   ],
   "source": [
    "print(ds) # print the metadata "
   ]
  },
  {
   "cell_type": "markdown",
   "id": "957df2b9",
   "metadata": {
    "slideshow": {
     "slide_type": "subslide"
    }
   },
   "source": [
    "Instead of printing all of the metadata, you can also query the variable names (or 'keys') which will help for exploratory data anlaysis:"
   ]
  },
  {
   "cell_type": "code",
   "execution_count": 23,
   "id": "46d94a30",
   "metadata": {
    "slideshow": {
     "slide_type": "fragment"
    }
   },
   "outputs": [
    {
     "data": {
      "text/plain": [
       "dict_keys(['stereographic', 'latitude', 'x', 'y', 'sithick', 'time', 'longitude'])"
      ]
     },
     "execution_count": 23,
     "metadata": {},
     "output_type": "execute_result"
    }
   ],
   "source": [
    "ds.variables.keys()"
   ]
  },
  {
   "cell_type": "markdown",
   "id": "bdc46a11",
   "metadata": {
    "slideshow": {
     "slide_type": "fragment"
    }
   },
   "source": [
    "Now you know the names of the variables, you can assign them to their own global variables:"
   ]
  },
  {
   "cell_type": "code",
   "execution_count": 24,
   "id": "dcde6e17",
   "metadata": {
    "slideshow": {
     "slide_type": "fragment"
    }
   },
   "outputs": [],
   "source": [
    "seaIceThickness = ds['sithick'] # assign netcdf variable to its own global variable"
   ]
  },
  {
   "cell_type": "markdown",
   "id": "1e6d4133",
   "metadata": {
    "slideshow": {
     "slide_type": "subslide"
    }
   },
   "source": [
    "**Read in various text files**\n",
    "\n",
    "Text files come in various shapes and sizes. Some may have the file identifier .txt however they don't always have this (e.g .dat). If you can open a file with a text editor (e.g Notepad, Sublime etc) it is most probably a text file and can be read in as below."
   ]
  },
  {
   "cell_type": "code",
   "execution_count": 25,
   "id": "397b1ee3",
   "metadata": {
    "slideshow": {
     "slide_type": "subslide"
    }
   },
   "outputs": [
    {
     "name": "stdout",
     "output_type": "stream",
     "text": [
      "FID,Species,Intensity\n",
      "Nursery_Grounds_2010.1,Cod,L\n",
      "Nursery_Grounds_2010.2,Cod,H\n",
      "Nursery_Grounds_2010.3,Spurdog,L\n",
      "Nursery_Grounds_2010.4,Spurdog,H\n",
      "Nursery_Grounds_2010.21,Undulate ray,L\n",
      "Nursery_Grounds_2010.22,Blue whiting,L\n",
      "Nursery_Grounds_2010.5,Tope shark,L\n",
      "Nursery_Grounds_2010.6,Herring,L\n",
      "Nursery_Grounds_2010.7,Herring,H\n",
      "Nursery_Grounds_2010.8,European hake,L\n",
      "Nursery_Grounds_2010.9,Ling,L\n",
      "Nursery_Grounds_2010.10,Mackerel,H\n",
      "Nursery_Grounds_2010.11,Mackerel,L\n",
      "Nursery_Grounds_2010.12,Anglerfish,L\n",
      "Nursery_Grounds_2010.13,Anglerfish,H\n",
      "Nursery_Grounds_2010.14,Plaice,L\n",
      "Nursery_Grounds_2010.15,Sandeel,L\n",
      "Nursery_Grounds_2010.16,Spotted ray,L\n",
      "Nursery_Grounds_2010.17,Common skate,L\n",
      "Nursery_Grounds_2010.18,Sole,L\n",
      "Nursery_Grounds_2010.19,Sole,H\n",
      "Nursery_Grounds_2010.20,Thornback ray,L\n",
      "Nursery_Grounds_2010.23,Blue whiting,H\n",
      "Nursery_Grounds_2010.24,Whiting,L\n",
      "Nursery_Grounds_2010.25,Whiting,H\n",
      "\n"
     ]
    }
   ],
   "source": [
    "f = open(\"data/nurserygrounds.txt\", \"r\")\n",
    "print(f.read())"
   ]
  },
  {
   "cell_type": "markdown",
   "id": "9be517ad",
   "metadata": {
    "slideshow": {
     "slide_type": "subslide"
    }
   },
   "source": [
    "Its good practice to close your text file after you've used it. "
   ]
  },
  {
   "cell_type": "code",
   "execution_count": 26,
   "id": "25791ae8",
   "metadata": {
    "slideshow": {
     "slide_type": "fragment"
    }
   },
   "outputs": [],
   "source": [
    "f.close()"
   ]
  },
  {
   "cell_type": "markdown",
   "id": "a937646e",
   "metadata": {
    "slideshow": {
     "slide_type": "fragment"
    }
   },
   "source": [
    "This method has other options like reading in only parts of the file or line by line. Find out more here: https://www.w3schools.com/python/python_file_open.asp\n",
    "\n",
    "If well structured, you can also read .txt files in similarly to .csv files using pandas:"
   ]
  },
  {
   "cell_type": "code",
   "execution_count": 27,
   "id": "3f598a5e",
   "metadata": {
    "slideshow": {
     "slide_type": "subslide"
    }
   },
   "outputs": [],
   "source": [
    "df = pd.read_csv(r\"data/nurserygrounds.txt\")"
   ]
  },
  {
   "cell_type": "code",
   "execution_count": 28,
   "id": "69be9dd0",
   "metadata": {
    "slideshow": {
     "slide_type": "fragment"
    }
   },
   "outputs": [
    {
     "data": {
      "text/html": [
       "<div>\n",
       "<style scoped>\n",
       "    .dataframe tbody tr th:only-of-type {\n",
       "        vertical-align: middle;\n",
       "    }\n",
       "\n",
       "    .dataframe tbody tr th {\n",
       "        vertical-align: top;\n",
       "    }\n",
       "\n",
       "    .dataframe thead th {\n",
       "        text-align: right;\n",
       "    }\n",
       "</style>\n",
       "<table border=\"1\" class=\"dataframe\">\n",
       "  <thead>\n",
       "    <tr style=\"text-align: right;\">\n",
       "      <th></th>\n",
       "      <th>FID</th>\n",
       "      <th>Species</th>\n",
       "      <th>Intensity</th>\n",
       "    </tr>\n",
       "  </thead>\n",
       "  <tbody>\n",
       "    <tr>\n",
       "      <th>0</th>\n",
       "      <td>Nursery_Grounds_2010.1</td>\n",
       "      <td>Cod</td>\n",
       "      <td>L</td>\n",
       "    </tr>\n",
       "    <tr>\n",
       "      <th>1</th>\n",
       "      <td>Nursery_Grounds_2010.2</td>\n",
       "      <td>Cod</td>\n",
       "      <td>H</td>\n",
       "    </tr>\n",
       "    <tr>\n",
       "      <th>2</th>\n",
       "      <td>Nursery_Grounds_2010.3</td>\n",
       "      <td>Spurdog</td>\n",
       "      <td>L</td>\n",
       "    </tr>\n",
       "    <tr>\n",
       "      <th>3</th>\n",
       "      <td>Nursery_Grounds_2010.4</td>\n",
       "      <td>Spurdog</td>\n",
       "      <td>H</td>\n",
       "    </tr>\n",
       "    <tr>\n",
       "      <th>4</th>\n",
       "      <td>Nursery_Grounds_2010.21</td>\n",
       "      <td>Undulate ray</td>\n",
       "      <td>L</td>\n",
       "    </tr>\n",
       "  </tbody>\n",
       "</table>\n",
       "</div>"
      ],
      "text/plain": [
       "                       FID       Species Intensity\n",
       "0   Nursery_Grounds_2010.1           Cod         L\n",
       "1   Nursery_Grounds_2010.2           Cod         H\n",
       "2   Nursery_Grounds_2010.3       Spurdog         L\n",
       "3   Nursery_Grounds_2010.4       Spurdog         H\n",
       "4  Nursery_Grounds_2010.21  Undulate ray         L"
      ]
     },
     "execution_count": 28,
     "metadata": {},
     "output_type": "execute_result"
    }
   ],
   "source": [
    "df.head()"
   ]
  },
  {
   "cell_type": "markdown",
   "id": "7058fa5a",
   "metadata": {
    "slideshow": {
     "slide_type": "subslide"
    }
   },
   "source": [
    "**Reading .mat files**\n",
    "\n",
    "You can even read MATLAB data files (.mat) into Python. To do this you'll need to install and import the ```scipy``` package. Install it using the Anaconda prompt by typing: \n",
    "\n",
    "```\n",
    "conda install scipy \n",
    "```"
   ]
  },
  {
   "cell_type": "code",
   "execution_count": 29,
   "id": "c01b7edb",
   "metadata": {
    "slideshow": {
     "slide_type": "fragment"
    }
   },
   "outputs": [],
   "source": [
    "import scipy"
   ]
  },
  {
   "cell_type": "code",
   "execution_count": 30,
   "id": "522ddd1e",
   "metadata": {
    "slideshow": {
     "slide_type": "fragment"
    }
   },
   "outputs": [],
   "source": [
    "mat = scipy.io.loadmat('data/double.mat')"
   ]
  },
  {
   "cell_type": "code",
   "execution_count": 31,
   "id": "d6f2854f",
   "metadata": {
    "slideshow": {
     "slide_type": "subslide"
    }
   },
   "outputs": [
    {
     "name": "stdout",
     "output_type": "stream",
     "text": [
      "{'__header__': b'MATLAB 5.0 MAT-file, Platform: MACI64, Created on: Mon Mar 25 21:03:23 2019', '__version__': '1.0', '__globals__': [], 'A': array([[0.81472369, 0.15761308, 0.6557407 , 0.70604609, 0.43874436,\n",
      "        0.27602508, 0.75126706, 0.84071726, 0.35165951, 0.07585429],\n",
      "       [0.90579194, 0.97059278, 0.03571168, 0.03183285, 0.38155846,\n",
      "        0.67970268, 0.25509512, 0.25428218, 0.83082863, 0.05395012],\n",
      "       [0.12698682, 0.95716695, 0.84912931, 0.27692298, 0.76551679,\n",
      "        0.655098  , 0.50595705, 0.81428483, 0.58526409, 0.53079755],\n",
      "       [0.91337586, 0.48537565, 0.93399325, 0.04617139, 0.7951999 ,\n",
      "        0.16261174, 0.69907672, 0.24352497, 0.54972361, 0.77916723],\n",
      "       [0.63235925, 0.80028047, 0.67873515, 0.09713178, 0.1868726 ,\n",
      "        0.11899768, 0.89090325, 0.92926362, 0.91719366, 0.93401068],\n",
      "       [0.0975404 , 0.14188634, 0.75774013, 0.82345783, 0.4897644 ,\n",
      "        0.49836405, 0.95929143, 0.34998377, 0.28583902, 0.12990621],\n",
      "       [0.27849822, 0.42176128, 0.74313247, 0.69482862, 0.4455862 ,\n",
      "        0.95974396, 0.54721553, 0.19659525, 0.75720023, 0.56882366],\n",
      "       [0.54688152, 0.91573553, 0.39222702, 0.31709948, 0.64631301,\n",
      "        0.34038573, 0.13862444, 0.25108386, 0.75372909, 0.46939064],\n",
      "       [0.95750684, 0.79220733, 0.65547789, 0.95022205, 0.70936483,\n",
      "        0.58526775, 0.14929401, 0.61604468, 0.38044585, 0.01190207],\n",
      "       [0.96488854, 0.95949243, 0.17118669, 0.03444608, 0.75468668,\n",
      "        0.22381194, 0.25750825, 0.47328885, 0.56782164, 0.33712264]])}\n"
     ]
    }
   ],
   "source": [
    "print(mat)"
   ]
  },
  {
   "cell_type": "markdown",
   "id": "ebf39702",
   "metadata": {
    "slideshow": {
     "slide_type": "slide"
    }
   },
   "source": [
    "# Next Seminar: Introduction to Data Analysis using Python\n",
    "\n",
    "# 6th of February, 2 pm - 3 pm, Sarah Jones Conference Room"
   ]
  }
 ],
 "metadata": {
  "kernelspec": {
   "display_name": "Python 3 (ipykernel)",
   "language": "python",
   "name": "python3"
  },
  "language_info": {
   "codemirror_mode": {
    "name": "ipython",
    "version": 3
   },
   "file_extension": ".py",
   "mimetype": "text/x-python",
   "name": "python",
   "nbconvert_exporter": "python",
   "pygments_lexer": "ipython3",
   "version": "3.10.8"
  }
 },
 "nbformat": 4,
 "nbformat_minor": 5
}
